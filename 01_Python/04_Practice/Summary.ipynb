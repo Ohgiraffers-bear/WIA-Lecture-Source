{
 "cells": [
  {
   "cell_type": "markdown",
   "id": "15decc99",
   "metadata": {},
   "source": [
    "## 자료구조\n",
    "\n",
    "### 리스트\n",
    "특징\n",
    "- 순서가 있는 데이터구조"
   ]
  },
  {
   "cell_type": "code",
   "execution_count": 2,
   "id": "1d1dada6",
   "metadata": {},
   "outputs": [
    {
     "name": "stdout",
     "output_type": "stream",
     "text": [
      "[1, 2, 3, 4, 'hello']\n"
     ]
    }
   ],
   "source": [
    "my_list = [1,2,3,4,'hello'] # 다른 자료형을 넣어도 상관 X \n",
    "\n",
    "print(my_list)"
   ]
  },
  {
   "cell_type": "code",
   "execution_count": null,
   "id": "41d7f415",
   "metadata": {},
   "outputs": [
    {
     "name": "stdout",
     "output_type": "stream",
     "text": [
      "[1, 2, 3, 4, 2]\n"
     ]
    }
   ],
   "source": [
    "my_list = [1,2,3,4,2] # 중복 허용\n",
    "\n",
    "print(my_list)"
   ]
  },
  {
   "cell_type": "code",
   "execution_count": 7,
   "id": "a7710eb1",
   "metadata": {},
   "outputs": [
    {
     "name": "stdout",
     "output_type": "stream",
     "text": [
      "[1, 2, 3, 4, 2, 4, 4]\n"
     ]
    }
   ],
   "source": [
    "my_list[2] # 인덱스가 있음!\n",
    "\n",
    "my_list.append(4)\n",
    "\n",
    "print(my_list)"
   ]
  },
  {
   "cell_type": "code",
   "execution_count": 14,
   "id": "3d0e1166",
   "metadata": {},
   "outputs": [],
   "source": [
    "my_list[0] = '바꿈'"
   ]
  },
  {
   "cell_type": "code",
   "execution_count": 15,
   "id": "0123dd2a",
   "metadata": {},
   "outputs": [
    {
     "name": "stdout",
     "output_type": "stream",
     "text": [
      "['바꿈', 2, 3, 4, 2, 4, 4]\n"
     ]
    }
   ],
   "source": [
    "print(my_list)"
   ]
  },
  {
   "cell_type": "markdown",
   "id": "96708aea",
   "metadata": {},
   "source": [
    "### 튜플\n",
    "- 순서가 있는 데이터구조 -> index\n",
    "- 불변적 -> 생성한다음 수정 X"
   ]
  },
  {
   "cell_type": "code",
   "execution_count": 10,
   "id": "abc4cda6",
   "metadata": {},
   "outputs": [
    {
     "name": "stdout",
     "output_type": "stream",
     "text": [
      "(1, 2, 3, 4)\n"
     ]
    }
   ],
   "source": [
    "tuple = (1,2,3,4)\n",
    "\n",
    "print(tuple)"
   ]
  },
  {
   "cell_type": "code",
   "execution_count": null,
   "id": "3fe8a188",
   "metadata": {},
   "outputs": [
    {
     "name": "stdout",
     "output_type": "stream",
     "text": [
      "(1, 2, 3, 4, 4)\n"
     ]
    }
   ],
   "source": [
    "tuple = (1,2,3,4,4) #중복 허용\n",
    "\n",
    "print(tuple)"
   ]
  },
  {
   "cell_type": "code",
   "execution_count": null,
   "id": "18c899ad",
   "metadata": {},
   "outputs": [
    {
     "ename": "TypeError",
     "evalue": "'tuple' object does not support item assignment",
     "output_type": "error",
     "traceback": [
      "\u001b[31m---------------------------------------------------------------------------\u001b[39m",
      "\u001b[31mTypeError\u001b[39m                                 Traceback (most recent call last)",
      "\u001b[36mCell\u001b[39m\u001b[36m \u001b[39m\u001b[32mIn[13]\u001b[39m\u001b[32m, line 3\u001b[39m\n\u001b[32m      1\u001b[39m \u001b[38;5;28mtuple\u001b[39m = (\u001b[32m1\u001b[39m,\u001b[32m2\u001b[39m,\u001b[32m3\u001b[39m,\u001b[32m4\u001b[39m,\u001b[32m4\u001b[39m) \u001b[38;5;66;03m#중복 허용\u001b[39;00m\n\u001b[32m----> \u001b[39m\u001b[32m3\u001b[39m \u001b[38;5;28;43mtuple\u001b[39;49m\u001b[43m[\u001b[49m\u001b[32;43m3\u001b[39;49m\u001b[43m]\u001b[49m = \u001b[33m'\u001b[39m\u001b[33m1\u001b[39m\u001b[33m'\u001b[39m\n",
      "\u001b[31mTypeError\u001b[39m: 'tuple' object does not support item assignment"
     ]
    }
   ],
   "source": [
    "tuple = (1,2,3,4,4) #중복 허용\n",
    "\n",
    "# tuple[3] = '1' #값을 변경할 수 없음."
   ]
  },
  {
   "cell_type": "markdown",
   "id": "96f5b486",
   "metadata": {},
   "source": [
    "### 딕셔너리\n",
    "\n",
    "- Key - Value 쌍\n"
   ]
  },
  {
   "cell_type": "code",
   "execution_count": null,
   "id": "df1c3f59",
   "metadata": {},
   "outputs": [],
   "source": [
    "dict = {\n",
    "    'name':'박태근',\n",
    "    'age':20,\n",
    "    # 'age':20, 키값이 동일 할 순 없음.\n",
    "    'city': '시흥'\n",
    "}"
   ]
  },
  {
   "cell_type": "code",
   "execution_count": 19,
   "id": "bc983bea",
   "metadata": {},
   "outputs": [
    {
     "name": "stdout",
     "output_type": "stream",
     "text": [
      "박태근\n",
      "서울\n",
      "{'name': '박태근', 'age': 20, 'city': '서울', 'job': 'teacher'}\n"
     ]
    }
   ],
   "source": [
    "print(dict['name'])\n",
    "dict['city'] = '서울' # -> key는 중복이 안된다.\n",
    "print(dict['city'])\n",
    "\n",
    "dict['job'] = 'teacher'\n",
    "\n",
    "print(dict)"
   ]
  },
  {
   "cell_type": "code",
   "execution_count": 23,
   "id": "b3f58a02",
   "metadata": {},
   "outputs": [],
   "source": [
    "dict2 = {\n",
    "    'name':'박태근2',\n",
    "    'age':202,\n",
    "    'city': '시흥2'\n",
    "}\n",
    "\n",
    "dict3 = {\n",
    "    'name':'박태근3',\n",
    "    'age':202,\n",
    "    'city': { \n",
    "        \"home\" : '시흥3',\n",
    "        'job' : '창원'\n",
    "        }\n",
    "}"
   ]
  },
  {
   "cell_type": "code",
   "execution_count": 24,
   "id": "71d05940",
   "metadata": {},
   "outputs": [
    {
     "name": "stdout",
     "output_type": "stream",
     "text": [
      "{'name': '박태근3', 'age': 202, 'city': {'home': '시흥3', 'job': '창원'}}\n"
     ]
    }
   ],
   "source": [
    "print(dict3)"
   ]
  },
  {
   "cell_type": "code",
   "execution_count": 21,
   "id": "6421b489",
   "metadata": {},
   "outputs": [
    {
     "name": "stdout",
     "output_type": "stream",
     "text": [
      "[{'name': '박태근', 'age': 20, 'city': '서울', 'job': 'teacher'}, {'name': '박태근2', 'age': 202, 'city': '시흥2'}, {'name': '박태근3', 'age': 202, 'city': '시흥3'}]\n"
     ]
    }
   ],
   "source": [
    "dict_list = [dict, dict2, dict3]\n",
    "\n",
    "print(dict_list)"
   ]
  },
  {
   "cell_type": "markdown",
   "id": "436031f5",
   "metadata": {},
   "source": [
    "### Set\n",
    "- 중복 불허용\n",
    "- 순서가 없음"
   ]
  },
  {
   "cell_type": "code",
   "execution_count": 27,
   "id": "743da716",
   "metadata": {},
   "outputs": [
    {
     "name": "stdout",
     "output_type": "stream",
     "text": [
      "{1, 2, 3, 4, 5}\n"
     ]
    }
   ],
   "source": [
    "set = {1,2,3,4,5,1}\n",
    "\n",
    "print(set)"
   ]
  }
 ],
 "metadata": {
  "kernelspec": {
   "display_name": "helloworld",
   "language": "python",
   "name": "python3"
  },
  "language_info": {
   "codemirror_mode": {
    "name": "ipython",
    "version": 3
   },
   "file_extension": ".py",
   "mimetype": "text/x-python",
   "name": "python",
   "nbconvert_exporter": "python",
   "pygments_lexer": "ipython3",
   "version": "3.12.12"
  }
 },
 "nbformat": 4,
 "nbformat_minor": 5
}
