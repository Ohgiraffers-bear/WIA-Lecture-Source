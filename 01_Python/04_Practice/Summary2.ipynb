{
 "cells": [
  {
   "cell_type": "markdown",
   "id": "1ac83972",
   "metadata": {},
   "source": [
    "### 조건문\n",
    "\n",
    "\n",
    "```python\n",
    "\n",
    "if [조건식]:\n",
    "    [실행할 코드]\n",
    "elif [조건식]:\n",
    "    [첫번째 조건식이 False일때 실행 될 조건식]\n",
    "else:\n",
    "    [조건들에서 전부 False가 나왔을때 실행될 코드 ]\n",
    "\n",
    "```\n",
    "\n",
    "\n"
   ]
  },
  {
   "cell_type": "code",
   "execution_count": 4,
   "id": "730e4f32",
   "metadata": {},
   "outputs": [
    {
     "name": "stdout",
     "output_type": "stream",
     "text": [
      "적당히 잘하셨습니다.\n"
     ]
    }
   ],
   "source": [
    "score = 84\n",
    "\n",
    "if score >= 85:\n",
    "    print(\"잘하셨습니다👍\")\n",
    "elif score > 80:\n",
    "    print(\"적당히 잘하셨습니다.\")\n",
    "else:\n",
    "    print(\"못하셨습니다.😢\")"
   ]
  },
  {
   "cell_type": "markdown",
   "id": "1adea3e4",
   "metadata": {},
   "source": [
    "### match-case\n",
    "```python\n",
    "match [비교할대상]:\n",
    "    case [비교할 값]:\n",
    "        [실행될 코드]\n",
    "    case [비교할 값]:\n",
    "        [실행될 코드]\n",
    "    case [비교할 값]:\n",
    "        [실행될 코드]\n",
    "```        "
   ]
  },
  {
   "cell_type": "code",
   "execution_count": null,
   "id": "b6db316e",
   "metadata": {},
   "outputs": [
    {
     "name": "stdout",
     "output_type": "stream",
     "text": [
      "그냥그런 날입니다.\n"
     ]
    }
   ],
   "source": [
    "day = '목요일'\n",
    "\n",
    "match day:\n",
    "    case '월요일':\n",
    "        print('월요일입니다!')\n",
    "    case '화요일':\n",
    "        print('화요일입니다!')\n",
    "    case '수요일':\n",
    "        print('수요일입니다!')\n",
    "    case _: # else같이 모든조건에 포함되지 않을때 실행되는 case\n",
    "        print('그냥그런 날입니다.')\n"
   ]
  },
  {
   "cell_type": "markdown",
   "id": "9f0055fd",
   "metadata": {},
   "source": [
    "### for 문\n",
    "\n",
    "```python\n",
    "for [변수] in [반복가능한객체]:\n",
    "    [반복시킬 문장]\n",
    "```"
   ]
  },
  {
   "cell_type": "code",
   "execution_count": 11,
   "id": "1bac5c5b",
   "metadata": {},
   "outputs": [
    {
     "name": "stdout",
     "output_type": "stream",
     "text": [
      "num은 0 입니다.\n",
      "num은 1 입니다.\n",
      "num은 2 입니다.\n",
      "num은 3 입니다.\n",
      "num은 4 입니다.\n",
      "num은 5 입니다.\n",
      "num은 6 입니다.\n",
      "num은 7 입니다.\n",
      "num은 8 입니다.\n",
      "num은 9 입니다.\n",
      "num은 10 입니다.\n",
      "num은 11 입니다.\n",
      "num은 12 입니다.\n",
      "num은 13 입니다.\n",
      "num은 14 입니다.\n",
      "num은 15 입니다.\n",
      "num은 16 입니다.\n",
      "num은 17 입니다.\n",
      "num은 18 입니다.\n",
      "num은 19 입니다.\n",
      "num은 20 입니다.\n",
      "num은 21 입니다.\n",
      "num은 22 입니다.\n",
      "num은 23 입니다.\n",
      "num은 24 입니다.\n",
      "num은 25 입니다.\n",
      "num은 26 입니다.\n",
      "num은 27 입니다.\n",
      "num은 28 입니다.\n",
      "num은 29 입니다.\n",
      "num은 30 입니다.\n",
      "num은 31 입니다.\n",
      "num은 32 입니다.\n",
      "num은 33 입니다.\n",
      "num은 34 입니다.\n",
      "num은 35 입니다.\n",
      "num은 36 입니다.\n",
      "num은 37 입니다.\n",
      "num은 38 입니다.\n",
      "num은 39 입니다.\n",
      "num은 40 입니다.\n",
      "num은 41 입니다.\n",
      "num은 42 입니다.\n",
      "num은 43 입니다.\n",
      "num은 44 입니다.\n",
      "num은 45 입니다.\n",
      "num은 46 입니다.\n",
      "num은 47 입니다.\n",
      "num은 48 입니다.\n",
      "num은 49 입니다.\n",
      "num은 50 입니다.\n",
      "num은 51 입니다.\n",
      "num은 52 입니다.\n",
      "num은 53 입니다.\n",
      "num은 54 입니다.\n",
      "num은 55 입니다.\n",
      "num은 56 입니다.\n",
      "num은 57 입니다.\n",
      "num은 58 입니다.\n",
      "num은 59 입니다.\n",
      "num은 60 입니다.\n",
      "num은 61 입니다.\n",
      "num은 62 입니다.\n",
      "num은 63 입니다.\n",
      "num은 64 입니다.\n",
      "num은 65 입니다.\n",
      "num은 66 입니다.\n",
      "num은 67 입니다.\n",
      "num은 68 입니다.\n",
      "num은 69 입니다.\n",
      "num은 70 입니다.\n",
      "num은 71 입니다.\n",
      "num은 72 입니다.\n",
      "num은 73 입니다.\n",
      "num은 74 입니다.\n",
      "num은 75 입니다.\n",
      "num은 76 입니다.\n",
      "num은 77 입니다.\n",
      "num은 78 입니다.\n",
      "num은 79 입니다.\n",
      "num은 80 입니다.\n",
      "num은 81 입니다.\n",
      "num은 82 입니다.\n",
      "num은 83 입니다.\n",
      "num은 84 입니다.\n",
      "num은 85 입니다.\n",
      "num은 86 입니다.\n",
      "num은 87 입니다.\n",
      "num은 88 입니다.\n",
      "num은 89 입니다.\n",
      "num은 90 입니다.\n",
      "num은 91 입니다.\n",
      "num은 92 입니다.\n",
      "num은 93 입니다.\n",
      "num은 94 입니다.\n",
      "num은 95 입니다.\n",
      "num은 96 입니다.\n",
      "num은 97 입니다.\n",
      "num은 98 입니다.\n"
     ]
    }
   ],
   "source": [
    "list = [1,2,3,4,5]\n",
    "\n",
    "for num in range(99):\n",
    "    print(f\"num은 {num} 입니다.\")"
   ]
  },
  {
   "cell_type": "markdown",
   "id": "b3f874e2",
   "metadata": {},
   "source": [
    "### While\n",
    "\n",
    "```python\n",
    "\n",
    "while [조건식]\n",
    "    [반복할 코드]\n"
   ]
  },
  {
   "cell_type": "code",
   "execution_count": 12,
   "id": "2840ef4d",
   "metadata": {},
   "outputs": [
    {
     "name": "stdout",
     "output_type": "stream",
     "text": [
      "카운트 : 0\n",
      "카운트 : 1\n",
      "카운트 : 2\n"
     ]
    }
   ],
   "source": [
    "count = 0\n",
    "\n",
    "while count < 3:\n",
    "    print(f'카운트 : {count}')\n",
    "    \n",
    "    count += 1\n",
    "    "
   ]
  },
  {
   "cell_type": "code",
   "execution_count": 3,
   "id": "1e5a5390",
   "metadata": {},
   "outputs": [
    {
     "name": "stdout",
     "output_type": "stream",
     "text": [
      "입력하신 숫자는 2 입니다.\n",
      "입력하신 숫자는 5\\ 입니다.\n",
      "입력하신 숫자는 5 입니다.\n"
     ]
    }
   ],
   "source": [
    "count = 0\n",
    "\n",
    "# 기본적으로 무한반복\n",
    "while True:\n",
    "    \n",
    "    num = input('숫자를 입력하세요') # input은 사용자가 입력한 문자열값을 반환\n",
    "    \n",
    "    if num=='3':\n",
    "        continue # -> 현재반복만 건너뜀\n",
    "\n",
    "    print(f'입력하신 숫자는 {num} 입니다.')\n",
    "    if num=='5':\n",
    "        break # 분기문 break : 반복문을 완전히 종료\n",
    "\n",
    "    "
   ]
  }
 ],
 "metadata": {
  "kernelspec": {
   "display_name": "helloworld",
   "language": "python",
   "name": "python3"
  },
  "language_info": {
   "codemirror_mode": {
    "name": "ipython",
    "version": 3
   },
   "file_extension": ".py",
   "mimetype": "text/x-python",
   "name": "python",
   "nbconvert_exporter": "python",
   "pygments_lexer": "ipython3",
   "version": "3.12.12"
  }
 },
 "nbformat": 4,
 "nbformat_minor": 5
}
