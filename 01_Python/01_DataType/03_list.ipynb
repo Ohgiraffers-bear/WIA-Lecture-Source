{
 "cells": [
  {
   "cell_type": "markdown",
   "id": "91861dbe",
   "metadata": {},
   "source": [
    "# 03. 리스트(List)\n",
    "---\n",
    "## 리스트 개요\n",
    "### 리스트란?\n",
    "* 일련의 값이 모인 집합을 다루기 위한 자료형, python은 배열과 같은 표현식을 쓰지만, 일반적인 프로그래밍 언어와 다르게,   \n",
    " 길이를 동적으로 조절 할 수 있어 list라고 부른다.\n",
    "\n",
    "### 리스트 표현식\n",
    "```\n",
    "리스트명 = ['값1', '값2', ...]\n",
    "```\n",
    "- List의 각 요소의 자료형은 무엇이든 될 수 있으며, 서로 다른 자료형이어도 괜찮다.\n",
    "- List에 저장되는 요소들은 0부터 시작하는 인덱스 체계로 구분해서 저장된다."
   ]
  },
  {
   "cell_type": "code",
   "execution_count": 4,
   "id": "29ce6f41",
   "metadata": {},
   "outputs": [
    {
     "name": "stdout",
     "output_type": "stream",
     "text": [
      "[1, 2, 3, 4, 5, 'a']\n",
      "a\n"
     ]
    }
   ],
   "source": [
    "numbers = [1,2,3,4,5,'a']\n",
    "\n",
    "print(numbers)\n",
    "print(numbers[5])"
   ]
  },
  {
   "cell_type": "markdown",
   "id": "aeec1d31",
   "metadata": {},
   "source": [
    "### 리스트 연산"
   ]
  },
  {
   "cell_type": "markdown",
   "id": "d5b7c164",
   "metadata": {},
   "source": [
    "**리스트 합치기**\n",
    "- 리스트 간 + 연산자를 이용하여 하나로 합칠 수 있다."
   ]
  },
  {
   "cell_type": "code",
   "execution_count": 5,
   "id": "e0505d72",
   "metadata": {},
   "outputs": [],
   "source": [
    "alpha = ['a', 'b', 'c', 'd','e']\n",
    "alpha2 = ['a', 'b', 'c']"
   ]
  },
  {
   "cell_type": "code",
   "execution_count": 6,
   "id": "53afa224",
   "metadata": {},
   "outputs": [
    {
     "name": "stdout",
     "output_type": "stream",
     "text": [
      "['a', 'b', 'c', 'd', 'e', 'a', 'b', 'c']\n"
     ]
    }
   ],
   "source": [
    "print(alpha + alpha2)"
   ]
  },
  {
   "cell_type": "markdown",
   "id": "54f72a2c",
   "metadata": {},
   "source": [
    "**리스트 반복**\n",
    "- 리스트에 * 연산을 하면 요소를 반복 할 수 있다."
   ]
  },
  {
   "cell_type": "code",
   "execution_count": 7,
   "id": "a018075b",
   "metadata": {},
   "outputs": [
    {
     "name": "stdout",
     "output_type": "stream",
     "text": [
      "['a', 'b', 'c', 'a', 'b', 'c']\n"
     ]
    }
   ],
   "source": [
    "print(alpha2 * 2)"
   ]
  },
  {
   "cell_type": "markdown",
   "id": "10bfb3d4",
   "metadata": {},
   "source": [
    "### 리스트 메서드"
   ]
  },
  {
   "cell_type": "code",
   "execution_count": 8,
   "id": "2219957a",
   "metadata": {},
   "outputs": [],
   "source": [
    "fruits = ['orange', 'apple', 'pear', 'banana', 'kiwi', 'apple']"
   ]
  },
  {
   "cell_type": "markdown",
   "id": "e44ca493",
   "metadata": {},
   "source": [
    "**count()**\n",
    "- count(값)은 리스트에 인자로 준 값이 몇개 존재하는지 확인하여 그 수를 반환한다."
   ]
  },
  {
   "cell_type": "code",
   "execution_count": 17,
   "id": "4c7b489d",
   "metadata": {},
   "outputs": [
    {
     "data": {
      "text/plain": [
       "0"
      ]
     },
     "execution_count": 17,
     "metadata": {},
     "output_type": "execute_result"
    }
   ],
   "source": [
    "fruits.count('apple')\n",
    "\n",
    "fruits.count('melone')"
   ]
  },
  {
   "cell_type": "markdown",
   "id": "91d825c0",
   "metadata": {},
   "source": [
    "**index()**\n",
    "- index(값)은 리스트에서 인자로 준 값이 몇번째 인덱스에 존재하는지 확인하여 그인덱스를 반환한다.\n",
    "- 같은 값이 리스트 내에 여러 개 존재하면 가장 처음에 등장하는 값의 인덱스를 반환한다."
   ]
  },
  {
   "cell_type": "code",
   "execution_count": null,
   "id": "d3f92e93",
   "metadata": {},
   "outputs": [
    {
     "data": {
      "text/plain": [
       "1"
      ]
     },
     "execution_count": 18,
     "metadata": {},
     "output_type": "execute_result"
    }
   ],
   "source": [
    "# fruits = ['orange', 'apple', 'pear', 'banana', 'kiwi', 'apple']\n",
    "fruits.index('apple')"
   ]
  },
  {
   "cell_type": "markdown",
   "id": "548423fb",
   "metadata": {},
   "source": [
    "**reverse()**\n",
    "- reverse()는 list의 값을 역으로 정렬한다."
   ]
  },
  {
   "cell_type": "code",
   "execution_count": 21,
   "id": "a2e3c1b9",
   "metadata": {},
   "outputs": [
    {
     "name": "stdout",
     "output_type": "stream",
     "text": [
      "['apple', 'kiwi', 'banana', 'pear', 'apple', 'orange']\n"
     ]
    }
   ],
   "source": [
    "fruits.reverse()\n",
    "\n",
    "print(fruits)"
   ]
  },
  {
   "cell_type": "markdown",
   "id": "d6fbd1a0",
   "metadata": {},
   "source": [
    "**append()**\n",
    "- append(값)은 list에 값을 덧붙여 추가한다."
   ]
  },
  {
   "cell_type": "code",
   "execution_count": 23,
   "id": "a5b62d8d",
   "metadata": {},
   "outputs": [
    {
     "data": {
      "text/plain": [
       "['apple',\n",
       " 'kiwi',\n",
       " 'banana',\n",
       " 'pear',\n",
       " 'apple',\n",
       " 'orange',\n",
       " 'pineapple',\n",
       " 'pineapple']"
      ]
     },
     "execution_count": 23,
     "metadata": {},
     "output_type": "execute_result"
    }
   ],
   "source": [
    "fruits.append('pineapple')\n",
    "\n",
    "fruits"
   ]
  },
  {
   "cell_type": "markdown",
   "id": "73a9e3cc",
   "metadata": {},
   "source": [
    "**extend()**\n",
    "- extend(리스트)는 리스트에 리스트를 덧붙여 추가한다.\n",
    "\n"
   ]
  },
  {
   "cell_type": "code",
   "execution_count": 25,
   "id": "e6aacc2b",
   "metadata": {},
   "outputs": [
    {
     "name": "stdout",
     "output_type": "stream",
     "text": [
      "['apple', 'kiwi', 'banana', 'pear', 'apple', 'orange', 'pineapple', 'pineapple', 'grape', 'mango']\n"
     ]
    }
   ],
   "source": [
    "new_fruits = ['grape', 'mango']\n",
    "\n",
    "fruits.extend(new_fruits)\n",
    "\n",
    "print(fruits)"
   ]
  },
  {
   "cell_type": "markdown",
   "id": "bf2189a9",
   "metadata": {},
   "source": [
    "**insert()**\n",
    "- insert(위치, 값)은 리스트의 특정 위치에 값을 삽입한다."
   ]
  },
  {
   "cell_type": "code",
   "execution_count": 26,
   "id": "5013fb64",
   "metadata": {},
   "outputs": [
    {
     "name": "stdout",
     "output_type": "stream",
     "text": [
      "['apple', 'monkey', 'kiwi', 'banana', 'pear', 'apple', 'orange', 'pineapple', 'pineapple', 'grape', 'mango']\n"
     ]
    }
   ],
   "source": [
    "fruits.insert(1,'monkey')\n",
    "\n",
    "print(fruits)"
   ]
  },
  {
   "cell_type": "markdown",
   "id": "dd874d34",
   "metadata": {},
   "source": [
    "**sort()**\n",
    "- 요소를 정렬하는 메서드로 원본 list에 영향을 준다.\n",
    "- 기본적으로 숫자 오름차순, 알파벳의 첫 글자를 기준으로 오름차순 정렬한다."
   ]
  },
  {
   "cell_type": "code",
   "execution_count": 27,
   "id": "8c348f39",
   "metadata": {},
   "outputs": [
    {
     "name": "stdout",
     "output_type": "stream",
     "text": [
      "['apple', 'apple', 'banana', 'grape', 'kiwi', 'mango', 'monkey', 'orange', 'pear', 'pineapple', 'pineapple']\n"
     ]
    }
   ],
   "source": [
    "fruits.sort()\n",
    "print(fruits)"
   ]
  },
  {
   "cell_type": "markdown",
   "id": "38d1a144",
   "metadata": {},
   "source": [
    "매개변수로 다양한 옵션을 주어 다른 기준으로 정렬할 수 있다."
   ]
  },
  {
   "cell_type": "code",
   "execution_count": null,
   "id": "6b8814fa",
   "metadata": {},
   "outputs": [
    {
     "name": "stdout",
     "output_type": "stream",
     "text": [
      "['pineapple', 'pineapple', 'pear', 'orange', 'monkey', 'mango', 'kiwi', 'grape', 'banana', 'apple', 'apple']\n"
     ]
    }
   ],
   "source": [
    "# 내림차순\n",
    "fruits.sort(reverse=True)\n",
    "print(fruits)"
   ]
  },
  {
   "cell_type": "code",
   "execution_count": 29,
   "id": "cd7be91f",
   "metadata": {},
   "outputs": [
    {
     "name": "stdout",
     "output_type": "stream",
     "text": [
      "['pear', 'kiwi', 'mango', 'grape', 'apple', 'apple', 'orange', 'monkey', 'banana', 'pineapple', 'pineapple']\n"
     ]
    }
   ],
   "source": [
    "fruits.sort(key=len)\n",
    "print(fruits)"
   ]
  }
 ],
 "metadata": {
  "kernelspec": {
   "display_name": "helloworld",
   "language": "python",
   "name": "python3"
  },
  "language_info": {
   "codemirror_mode": {
    "name": "ipython",
    "version": 3
   },
   "file_extension": ".py",
   "mimetype": "text/x-python",
   "name": "python",
   "nbconvert_exporter": "python",
   "pygments_lexer": "ipython3",
   "version": "3.12.12"
  }
 },
 "nbformat": 4,
 "nbformat_minor": 5
}
