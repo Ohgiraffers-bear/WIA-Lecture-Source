{
 "cells": [
  {
   "cell_type": "code",
   "execution_count": null,
   "id": "27312e4e",
   "metadata": {},
   "outputs": [],
   "source": [
    "import pandas as pd\n",
    "\n",
    "# 예시 상품 판매 데이터\n",
    "sales_data = {\n",
    "    'OrderID': [101, 102, 103, 104, 105, 106, 107, 108, 109, 110],\n",
    "    'Product': ['Laptop', 'Mouse', 'Laptop', 'Monitor', 'Mouse', 'Keyboard', 'Laptop', 'Mouse', 'Monitor', 'Keyboard'],\n",
    "    'Quantity': [1, 2, 1, 1, 2, 1, 1, 3, 1, 1],\n",
    "    'Price': [1200, 25, 1200, 300, 25, 100, 1200, 25, 300, 100],\n",
    "    'CustomerID': [1001, 1002, 1001, 1003, 1004, 1002, 1001, 1003, 1005, 1002],\n",
    "    'OrderDate': ['2024-01-05', '2024-01-06', '2024-01-07', '2024-01-10', '2024-01-12', '2024-01-15', '2024-01-18', '2024-01-20', '2024-01-22', '2024-01-25']\n",
    "}\n",
    "df_sales = pd.DataFrame(sales_data)"
   ]
  },
  {
   "cell_type": "markdown",
   "id": "261e8ade",
   "metadata": {},
   "source": [
    "1. 각 고객(`CustomerID`)별로 총 구매 금액을 계산하세요."
   ]
  },
  {
   "cell_type": "markdown",
   "id": "fc925406",
   "metadata": {},
   "source": [
    "2. `Laptop`을 구매한 고객들의 평균 구매 금액을 계산하세요."
   ]
  },
  {
   "cell_type": "markdown",
   "id": "deb6564f",
   "metadata": {},
   "source": [
    "3. 가장 많이 판매된 상품(상품 이름과 판매된 총 수량)을 구하세요."
   ]
  },
  {
   "cell_type": "markdown",
   "id": "67235da2",
   "metadata": {},
   "source": [
    "4. `OrderDate`가 2024년 1월 10일 이후인 주문만 필터링하여 출력하세요."
   ]
  },
  {
   "cell_type": "markdown",
   "id": "81d5533d",
   "metadata": {},
   "source": [
    "5. `Product`별로 판매량과 총 판매 금액을 계산한 후, 이를 `Price` 기준으로 내림차순으로 정렬하여 출력하세요.\n"
   ]
  }
 ],
 "metadata": {
  "kernelspec": {
   "display_name": "helloworld",
   "language": "python",
   "name": "python3"
  },
  "language_info": {
   "codemirror_mode": {
    "name": "ipython",
    "version": 3
   },
   "file_extension": ".py",
   "mimetype": "text/x-python",
   "name": "python",
   "nbconvert_exporter": "python",
   "pygments_lexer": "ipython3",
   "version": "3.12.12"
  }
 },
 "nbformat": 4,
 "nbformat_minor": 5
}
