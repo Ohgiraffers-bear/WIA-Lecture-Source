{
 "cells": [
  {
   "cell_type": "code",
   "execution_count": null,
   "id": "27312e4e",
   "metadata": {},
   "outputs": [],
   "source": [
    "import pandas as pd\n",
    "\n",
    "# 예시 컨텐츠 선호 데이터\n",
    "preference_data = {\n",
    "    'UserID': [1, 2, 3, 4, 5, 6, 7, 8, 9, 10],\n",
    "    'ContentID': [101, 102, 101, 103, 104, 105, 106, 101, 107, 102],\n",
    "    'ContentType': ['Movie', 'Music', 'Movie', 'Book', 'Movie', 'Music', 'Book', 'Movie', 'Music', 'Book'],\n",
    "    'Rating': [5, 3, 4, 2, 5, 4, 3, 4, 5, 2],\n",
    "    'ReviewDate': ['2024-02-01', '2024-02-02', '2024-02-03', '2024-02-05', '2024-02-07', '2024-02-10', '2024-02-12', '2024-02-14', '2024-02-15', '2024-02-20']\n",
    "}\n",
    "df_preference = pd.DataFrame(preference_data)"
   ]
  },
  {
   "cell_type": "markdown",
   "id": "261e8ade",
   "metadata": {},
   "source": [
    "1. 각 컨텐츠 타입(ContentType)별로 평균 평점을 계산하세요."
   ]
  },
  {
   "cell_type": "markdown",
   "id": "fc925406",
   "metadata": {},
   "source": [
    "2. 가장 높은 평점을 받은 ContentID와 해당 평점을 구하세요."
   ]
  },
  {
   "cell_type": "markdown",
   "id": "deb6564f",
   "metadata": {},
   "source": [
    "3. ReviewDate가 2024년 2월 10일 이후인 리뷰 중에서 Rating이 4 이상인 데이터를 필터링하여 출력하세요."
   ]
  },
  {
   "cell_type": "markdown",
   "id": "67235da2",
   "metadata": {},
   "source": [
    "4. 각 사용자(UserID)가 평가한 컨텐츠 수를 계산하고, 이를 출력하세요."
   ]
  }
 ],
 "metadata": {
  "kernelspec": {
   "display_name": "helloworld",
   "language": "python",
   "name": "python3"
  },
  "language_info": {
   "codemirror_mode": {
    "name": "ipython",
    "version": 3
   },
   "file_extension": ".py",
   "mimetype": "text/x-python",
   "name": "python",
   "nbconvert_exporter": "python",
   "pygments_lexer": "ipython3",
   "version": "3.12.12"
  }
 },
 "nbformat": 4,
 "nbformat_minor": 5
}
