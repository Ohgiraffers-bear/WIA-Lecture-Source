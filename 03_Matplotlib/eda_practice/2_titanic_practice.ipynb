{
 "cells": [
  {
   "cell_type": "markdown",
   "metadata": {},
   "source": [
    "##### [실습] titanic 승객 데이터 활용"
   ]
  },
  {
   "cell_type": "markdown",
   "metadata": {},
   "source": [
    "**컬럼 설명** \n",
    "역할부여\n",
    "\n",
    "당신은 10년차 데이터 분석가입니다. \n",
    "[DataFrame]에 대해서 설명을 제공할것입니다.\n",
    "이때, 내가 하는 질문에 대해서 pandas로 어떻게 처리할 수 있는지 알려주세요.\n",
    "\n",
    "[DataFrame 정보]\n",
    "데이터셋 자체는 타이타닉을 탄 승객들에 대한 정보들이 담겨있다.\n",
    "- PassengerId - 승객 고유번호 (index)\n",
    "- Survived - 생존유무(target 값) (0 = 사망, 1 = 생존)\n",
    "- Pclass - 티켓 클래스 (1 = 1st, 2 = 2nd, 3 = 3rd)\n",
    "- Name - 탑승객 성명\n",
    "- Sex - 성별 (male: 남성, female: 여성)\n",
    "- Age - 나이(세)\n",
    "- SibSp - 함께 탑승한 형제자매, 배우자 수 총합\n",
    "- Parch - 함께 탑승한 부모, 자녀 수 총합\n",
    "- Ticket - 티켓 넘버\n",
    "- Fare - 탑승 요금\n",
    "- Cabin - 객실 넘버\n",
    "- Embarked - 탑승 항구 (C: Cherbourg, Q: Queenstown, S: Southampton)\n",
    "[지시사항]\n",
    "- \n",
    "[조건]\n",
    "1. 코드를 제공할때 이해하기 쉽게 주석을 제공해주세요.\n",
    "2. 코드는 초보자도 이해하기 쉽게 간결한 스타일로 작성해주세요.\n",
    "3. 한번에 복사 및 붙여넣기 하기 쉽게 마지막에 정리를 추가해주세요."
   ]
  },
  {
   "cell_type": "markdown",
   "metadata": {},
   "source": [
    "1. Pandas로 CSV 파일 여는 코드만 알려줘\n",
    "\n",
    "2. CSV파일을 읽어올때 index를 지정하는 방법에 대해서 알려줘"
   ]
  },
  {
   "cell_type": "code",
   "execution_count": 2,
   "metadata": {},
   "outputs": [
    {
     "data": {
      "text/html": [
       "<div>\n",
       "<style scoped>\n",
       "    .dataframe tbody tr th:only-of-type {\n",
       "        vertical-align: middle;\n",
       "    }\n",
       "\n",
       "    .dataframe tbody tr th {\n",
       "        vertical-align: top;\n",
       "    }\n",
       "\n",
       "    .dataframe thead th {\n",
       "        text-align: right;\n",
       "    }\n",
       "</style>\n",
       "<table border=\"1\" class=\"dataframe\">\n",
       "  <thead>\n",
       "    <tr style=\"text-align: right;\">\n",
       "      <th></th>\n",
       "      <th>Survived</th>\n",
       "      <th>Pclass</th>\n",
       "      <th>Name</th>\n",
       "      <th>Sex</th>\n",
       "      <th>Age</th>\n",
       "      <th>SibSp</th>\n",
       "      <th>Parch</th>\n",
       "      <th>Ticket</th>\n",
       "      <th>Fare</th>\n",
       "      <th>Cabin</th>\n",
       "      <th>Embarked</th>\n",
       "    </tr>\n",
       "    <tr>\n",
       "      <th>PassengerId</th>\n",
       "      <th></th>\n",
       "      <th></th>\n",
       "      <th></th>\n",
       "      <th></th>\n",
       "      <th></th>\n",
       "      <th></th>\n",
       "      <th></th>\n",
       "      <th></th>\n",
       "      <th></th>\n",
       "      <th></th>\n",
       "      <th></th>\n",
       "    </tr>\n",
       "  </thead>\n",
       "  <tbody>\n",
       "    <tr>\n",
       "      <th>1</th>\n",
       "      <td>0</td>\n",
       "      <td>3</td>\n",
       "      <td>Braund, Mr. Owen Harris</td>\n",
       "      <td>male</td>\n",
       "      <td>22.0</td>\n",
       "      <td>1</td>\n",
       "      <td>0</td>\n",
       "      <td>A/5 21171</td>\n",
       "      <td>7.2500</td>\n",
       "      <td>NaN</td>\n",
       "      <td>S</td>\n",
       "    </tr>\n",
       "    <tr>\n",
       "      <th>2</th>\n",
       "      <td>1</td>\n",
       "      <td>1</td>\n",
       "      <td>Cumings, Mrs. John Bradley (Florence Briggs Th...</td>\n",
       "      <td>female</td>\n",
       "      <td>38.0</td>\n",
       "      <td>1</td>\n",
       "      <td>0</td>\n",
       "      <td>PC 17599</td>\n",
       "      <td>71.2833</td>\n",
       "      <td>C85</td>\n",
       "      <td>C</td>\n",
       "    </tr>\n",
       "    <tr>\n",
       "      <th>3</th>\n",
       "      <td>1</td>\n",
       "      <td>3</td>\n",
       "      <td>Heikkinen, Miss. Laina</td>\n",
       "      <td>female</td>\n",
       "      <td>26.0</td>\n",
       "      <td>0</td>\n",
       "      <td>0</td>\n",
       "      <td>STON/O2. 3101282</td>\n",
       "      <td>7.9250</td>\n",
       "      <td>NaN</td>\n",
       "      <td>S</td>\n",
       "    </tr>\n",
       "    <tr>\n",
       "      <th>4</th>\n",
       "      <td>1</td>\n",
       "      <td>1</td>\n",
       "      <td>Futrelle, Mrs. Jacques Heath (Lily May Peel)</td>\n",
       "      <td>female</td>\n",
       "      <td>35.0</td>\n",
       "      <td>1</td>\n",
       "      <td>0</td>\n",
       "      <td>113803</td>\n",
       "      <td>53.1000</td>\n",
       "      <td>C123</td>\n",
       "      <td>S</td>\n",
       "    </tr>\n",
       "    <tr>\n",
       "      <th>5</th>\n",
       "      <td>0</td>\n",
       "      <td>3</td>\n",
       "      <td>Allen, Mr. William Henry</td>\n",
       "      <td>male</td>\n",
       "      <td>35.0</td>\n",
       "      <td>0</td>\n",
       "      <td>0</td>\n",
       "      <td>373450</td>\n",
       "      <td>8.0500</td>\n",
       "      <td>NaN</td>\n",
       "      <td>S</td>\n",
       "    </tr>\n",
       "  </tbody>\n",
       "</table>\n",
       "</div>"
      ],
      "text/plain": [
       "             Survived  Pclass  \\\n",
       "PassengerId                     \n",
       "1                   0       3   \n",
       "2                   1       1   \n",
       "3                   1       3   \n",
       "4                   1       1   \n",
       "5                   0       3   \n",
       "\n",
       "                                                          Name     Sex   Age  \\\n",
       "PassengerId                                                                    \n",
       "1                                      Braund, Mr. Owen Harris    male  22.0   \n",
       "2            Cumings, Mrs. John Bradley (Florence Briggs Th...  female  38.0   \n",
       "3                                       Heikkinen, Miss. Laina  female  26.0   \n",
       "4                 Futrelle, Mrs. Jacques Heath (Lily May Peel)  female  35.0   \n",
       "5                                     Allen, Mr. William Henry    male  35.0   \n",
       "\n",
       "             SibSp  Parch            Ticket     Fare Cabin Embarked  \n",
       "PassengerId                                                          \n",
       "1                1      0         A/5 21171   7.2500   NaN        S  \n",
       "2                1      0          PC 17599  71.2833   C85        C  \n",
       "3                0      0  STON/O2. 3101282   7.9250   NaN        S  \n",
       "4                1      0            113803  53.1000  C123        S  \n",
       "5                0      0            373450   8.0500   NaN        S  "
      ]
     },
     "execution_count": 2,
     "metadata": {},
     "output_type": "execute_result"
    }
   ],
   "source": [
    "# titanic.csv 파일 로드\n",
    "# titanic 데이터셋의 메타 데이터 확인\n",
    "\n",
    "import pandas as pd\n",
    "\n",
    "# PassengerId를 index로한 df\n",
    "df = pd.read_csv('data/titanic.csv', index_col='PassengerId')\n",
    "df.head()"
   ]
  },
  {
   "cell_type": "markdown",
   "metadata": {},
   "source": [
    "- 기초문제"
   ]
  },
  {
   "cell_type": "code",
   "execution_count": 4,
   "metadata": {},
   "outputs": [
    {
     "name": "stdout",
     "output_type": "stream",
     "text": [
      "사망자 수: 549\n",
      "생존자 수: 342\n"
     ]
    },
    {
     "data": {
      "text/plain": [
       "Survived\n",
       "0    549\n",
       "1    342\n",
       "Name: count, dtype: int64"
      ]
     },
     "execution_count": 4,
     "metadata": {},
     "output_type": "execute_result"
    }
   ],
   "source": [
    "# 1. 전체 승객 중 생존자의 수와 사망자의 수를 구하여 출력\n",
    "\n",
    "# 타이타닉 데이터셋에서 생존자와 사망자 수 출력\n",
    "survival_counts = df['Survived'].value_counts()\n",
    "print(\"사망자 수:\", survival_counts[0])\n",
    "print(\"생존자 수:\", survival_counts[1])\n",
    "\n",
    "survival_counts"
   ]
  },
  {
   "cell_type": "code",
   "execution_count": 6,
   "metadata": {},
   "outputs": [
    {
     "name": "stdout",
     "output_type": "stream",
     "text": [
      "승객 나이의 평균: 29.699세\n"
     ]
    }
   ],
   "source": [
    "# 2. 승객 나이의 평균 출력\n",
    "\n",
    "mean_age = df['Age'].mean()\n",
    "print(\"승객 나이의 평균: {:.3f}세\".format(mean_age))"
   ]
  },
  {
   "cell_type": "code",
   "execution_count": 10,
   "metadata": {},
   "outputs": [
    {
     "name": "stdout",
     "output_type": "stream",
     "text": [
      "1등급 승객 중 운임이 가장 높은 승객의 이름: Ward, Miss. Anna\n"
     ]
    }
   ],
   "source": [
    "# 3. 1등급 승객 중 운임이 가장 높은 승객의 이름 출력\n",
    "\n",
    "# Pclass가 1인사람들로만 df\n",
    "first_class = df[df['Pclass'] == 1]\n",
    "\n",
    "# 그 중 운임(Fare)이 가장 높은 승객 정보 추출\n",
    "max_fare_passenger = first_class.loc[first_class['Fare'].idxmax()]\n",
    "\n",
    "max_fare_passenger\n",
    "\n",
    "# 이름 출력\n",
    "print(\"1등급 승객 중 운임이 가장 높은 승객의 이름:\", max_fare_passenger['Name'])\n"
   ]
  },
  {
   "cell_type": "code",
   "execution_count": 11,
   "metadata": {},
   "outputs": [
    {
     "name": "stdout",
     "output_type": "stream",
     "text": [
      "여성 승객의 수: 314\n"
     ]
    }
   ],
   "source": [
    "# 4. 여성 승객의 수를 구하여 출력\n",
    "\n",
    "# 여성 승객만 필터링\n",
    "female_passengers = df[df['Sex'] == 'female']\n",
    "\n",
    "# 여성 승객 수 계산\n",
    "num_female = len(female_passengers)\n",
    "\n",
    "# 결과 출력\n",
    "print(\"여성 승객의 수:\", num_female)"
   ]
  },
  {
   "cell_type": "code",
   "execution_count": 14,
   "metadata": {},
   "outputs": [
    {
     "name": "stdout",
     "output_type": "stream",
     "text": [
      "                                                          Name      Fare\n",
      "PassengerId                                                             \n",
      "2            Cumings, Mrs. John Bradley (Florence Briggs Th...   71.2833\n",
      "4                 Futrelle, Mrs. Jacques Heath (Lily May Peel)   53.1000\n",
      "7                                      McCarthy, Mr. Timothy J   51.8625\n",
      "28                              Fortune, Mr. Charles Alexander  263.0000\n",
      "32              Spencer, Mrs. William Augustus (Marie Eugenie)  146.5208\n",
      "...                                                        ...       ...\n",
      "857                 Wick, Mrs. George Dennick (Mary Hitchcock)  164.8667\n",
      "864                          Sage, Miss. Dorothy Edith \"Dolly\"   69.5500\n",
      "868                       Roebling, Mr. Washington Augustus II   50.4958\n",
      "872           Beckwith, Mrs. Richard Leonard (Sallie Monypeny)   52.5542\n",
      "880              Potter, Mrs. Thomas Jr (Lily Alexenia Wilson)   83.1583\n",
      "\n",
      "[161 rows x 2 columns]\n"
     ]
    }
   ],
   "source": [
    "# 5. 운임이 50 이상인 승객의 이름과 운임 출력\n",
    "\n",
    "# 운임이 50 이상인 승객만 선택\n",
    "high_fare = df[df['Fare'] >= 50]\n",
    "\n",
    "# high_fare.head()\n",
    "# 이름과 운임 컬럼만 출력\n",
    "high_fare[['Name', 'Fare']]"
   ]
  },
  {
   "cell_type": "code",
   "execution_count": 15,
   "metadata": {},
   "outputs": [
    {
     "data": {
      "text/plain": [
       "np.float64(0.5398230088495575)"
      ]
     },
     "execution_count": 15,
     "metadata": {},
     "output_type": "execute_result"
    }
   ],
   "source": [
    "# 6. 나이가 18세 미만인 승객들의 생존율을 계산하여 출력\n",
    "\n",
    "# 18세 미만 승객 추출\n",
    "under_18 = df[df['Age'] < 18]\n",
    "\n",
    "# 생존율 계산\n",
    "survival_rate = under_18['Survived'].mean()\n",
    "\n",
    "# 생존율 출력\n",
    "survival_rate"
   ]
  },
  {
   "cell_type": "markdown",
   "metadata": {},
   "source": [
    "# 10세 단위로 생존률 평균을 시각화해줘"
   ]
  },
  {
   "cell_type": "code",
   "execution_count": 17,
   "metadata": {},
   "outputs": [
    {
     "name": "stdout",
     "output_type": "stream",
     "text": [
      "Collecting seaborn\n",
      "  Downloading seaborn-0.13.2-py3-none-any.whl.metadata (5.4 kB)\n",
      "Requirement already satisfied: numpy!=1.24.0,>=1.20 in c:\\users\\wia\\miniforge3\\envs\\helloworld\\lib\\site-packages (from seaborn) (2.3.4)\n",
      "Requirement already satisfied: pandas>=1.2 in c:\\users\\wia\\miniforge3\\envs\\helloworld\\lib\\site-packages (from seaborn) (2.3.3)\n",
      "Requirement already satisfied: matplotlib!=3.6.1,>=3.4 in c:\\users\\wia\\miniforge3\\envs\\helloworld\\lib\\site-packages (from seaborn) (3.10.7)\n",
      "Requirement already satisfied: contourpy>=1.0.1 in c:\\users\\wia\\miniforge3\\envs\\helloworld\\lib\\site-packages (from matplotlib!=3.6.1,>=3.4->seaborn) (1.3.3)\n",
      "Requirement already satisfied: cycler>=0.10 in c:\\users\\wia\\miniforge3\\envs\\helloworld\\lib\\site-packages (from matplotlib!=3.6.1,>=3.4->seaborn) (0.12.1)\n",
      "Requirement already satisfied: fonttools>=4.22.0 in c:\\users\\wia\\miniforge3\\envs\\helloworld\\lib\\site-packages (from matplotlib!=3.6.1,>=3.4->seaborn) (4.60.1)\n",
      "Requirement already satisfied: kiwisolver>=1.3.1 in c:\\users\\wia\\miniforge3\\envs\\helloworld\\lib\\site-packages (from matplotlib!=3.6.1,>=3.4->seaborn) (1.4.9)\n",
      "Requirement already satisfied: packaging>=20.0 in c:\\users\\wia\\miniforge3\\envs\\helloworld\\lib\\site-packages (from matplotlib!=3.6.1,>=3.4->seaborn) (25.0)\n",
      "Requirement already satisfied: pillow>=8 in c:\\users\\wia\\miniforge3\\envs\\helloworld\\lib\\site-packages (from matplotlib!=3.6.1,>=3.4->seaborn) (11.3.0)\n",
      "Requirement already satisfied: pyparsing>=3 in c:\\users\\wia\\miniforge3\\envs\\helloworld\\lib\\site-packages (from matplotlib!=3.6.1,>=3.4->seaborn) (3.2.5)\n",
      "Requirement already satisfied: python-dateutil>=2.7 in c:\\users\\wia\\miniforge3\\envs\\helloworld\\lib\\site-packages (from matplotlib!=3.6.1,>=3.4->seaborn) (2.9.0.post0)\n",
      "Requirement already satisfied: pytz>=2020.1 in c:\\users\\wia\\miniforge3\\envs\\helloworld\\lib\\site-packages (from pandas>=1.2->seaborn) (2025.2)\n",
      "Requirement already satisfied: tzdata>=2022.7 in c:\\users\\wia\\miniforge3\\envs\\helloworld\\lib\\site-packages (from pandas>=1.2->seaborn) (2025.2)\n",
      "Requirement already satisfied: six>=1.5 in c:\\users\\wia\\miniforge3\\envs\\helloworld\\lib\\site-packages (from python-dateutil>=2.7->matplotlib!=3.6.1,>=3.4->seaborn) (1.17.0)\n",
      "Downloading seaborn-0.13.2-py3-none-any.whl (294 kB)\n",
      "Installing collected packages: seaborn\n",
      "Successfully installed seaborn-0.13.2\n"
     ]
    }
   ],
   "source": [
    "!pip install seaborn"
   ]
  },
  {
   "cell_type": "code",
   "execution_count": 18,
   "metadata": {},
   "outputs": [
    {
     "data": {
      "text/plain": [
       "<Axes: xlabel='AgeGroup', ylabel='Survived'>"
      ]
     },
     "execution_count": 18,
     "metadata": {},
     "output_type": "execute_result"
    },
    {
     "data": {
      "image/png": "[encoded data removed]",
      "text/plain": [
       "<Figure size 640x480 with 1 Axes>"
      ]
     },
     "metadata": {},
     "output_type": "display_data"
    }
   ],
   "source": [
    "import seaborn as sns\n",
    "\n",
    "df['AgeGroup'] = (df['Age'] // 10) * 10  # 10세 단위 그룹 생성\n",
    "sns.barplot(x='AgeGroup', y='Survived', data=df)"
   ]
  },
  {
   "cell_type": "code",
   "execution_count": 19,
   "metadata": {},
   "outputs": [
    {
     "data": {
      "image/png": "[encoded data removed]",
      "text/plain": [
       "<Figure size 640x480 with 1 Axes>"
      ]
     },
     "metadata": {},
     "output_type": "display_data"
    }
   ],
   "source": [
    "import matplotlib.pyplot as plt\n",
    "\n",
    "age_survival = df.groupby((df['Age'] // 10) * 10)['Survived'].mean()\n",
    "plt.plot(age_survival.index, age_survival.values, marker='o')\n",
    "plt.xlabel('Age Group')\n",
    "plt.ylabel('Survival Rate')\n",
    "plt.title('Survival Rate by Age Group')\n",
    "plt.show()"
   ]
  },
  {
   "cell_type": "code",
   "execution_count": 22,
   "metadata": {},
   "outputs": [],
   "source": [
    "import matplotlib.pyplot as plt\n",
    "plt.rcParams['font.family'] = 'Malgun Gothic'  # 또는 '맑은 고딕'\n",
    "plt.rcParams['axes.unicode_minus'] = False   # 마이너스(-) 기호도 정상 표시"
   ]
  },
  {
   "cell_type": "code",
   "execution_count": 20,
   "metadata": {},
   "outputs": [
    {
     "name": "stdout",
     "output_type": "stream",
     "text": [
      "2등급 객실 승객의 평균 운임: 20.662183152173913\n"
     ]
    }
   ],
   "source": [
    "# 7. 2등급 객실에 탑승한 승객의 평균 운임을 계산하여 출력\n",
    "\n",
    "# 2등급 객실(Pclass=2)에 탑승한 승객만 선택\n",
    "second_class_passengers = df[df['Pclass'] == 2]\n",
    "\n",
    "# 평균 운임 계산\n",
    "mean_fare = second_class_passengers['Fare'].mean()\n",
    "\n",
    "# 출력\n",
    "print(\"2등급 객실 승객의 평균 운임:\", mean_fare)"
   ]
  },
  {
   "cell_type": "markdown",
   "metadata": {},
   "source": [
    "각 등급별 객실에 탑승한 승객들의 평균 운임을 시각화"
   ]
  },
  {
   "cell_type": "code",
   "execution_count": 23,
   "metadata": {},
   "outputs": [
    {
     "data": {
      "image/png": "[encoded data removed]",
      "text/plain": [
       "<Figure size 640x480 with 1 Axes>"
      ]
     },
     "metadata": {},
     "output_type": "display_data"
    }
   ],
   "source": [
    "# seaborn barplot은 그룹별 평균을 자동으로 계산해줍니다!\n",
    "sns.barplot(x='Pclass', y='Fare', data=df)\n",
    "\n",
    "# 꾸미기(선택)\n",
    "plt.title('등급별 평균 운임')\n",
    "plt.xlabel('객실 등급')\n",
    "plt.ylabel('평균 운임')\n",
    "plt.show()"
   ]
  },
  {
   "cell_type": "code",
   "execution_count": 24,
   "metadata": {},
   "outputs": [
    {
     "name": "stdout",
     "output_type": "stream",
     "text": [
      "가장 나이가 많은 승객의 이름: Barkworth, Mr. Algernon Henry Wilson\n",
      "가장 나이가 많은 승객의 나이: 80.0\n"
     ]
    }
   ],
   "source": [
    "# 8. 승객 중 나이가 가장 많은 사람의 나이와 이름을 출력\n",
    "oldest = df.loc[df['Age'].idxmax()]\n",
    "print('가장 나이가 많은 승객의 이름:', oldest['Name'])\n",
    "print('가장 나이가 많은 승객의 나이:', oldest['Age'])"
   ]
  },
  {
   "cell_type": "code",
   "execution_count": 27,
   "metadata": {},
   "outputs": [
    {
     "data": {
      "text/plain": [
       "(644, 12)"
      ]
     },
     "execution_count": 27,
     "metadata": {},
     "output_type": "execute_result"
    }
   ],
   "source": [
    "df[df['Embarked'] == 'S'].shape"
   ]
  },
  {
   "cell_type": "code",
   "execution_count": 25,
   "metadata": {},
   "outputs": [
    {
     "name": "stdout",
     "output_type": "stream",
     "text": [
      "S 항구에서 탑승한 승객의 수: 644명\n"
     ]
    }
   ],
   "source": [
    "# 9. S 항구에서 탑승한 승객의 수를 출력\n",
    "# shape\n",
    "num_s_embarked = df[df['Embarked'] == 'S'].shape[0]\n",
    "\n",
    "print(f\"S 항구에서 탑승한 승객의 수: {num_s_embarked}명\")"
   ]
  },
  {
   "cell_type": "code",
   "execution_count": 33,
   "metadata": {},
   "outputs": [],
   "source": [
    "# 10. 3등급 객실에 탑승한 남성 승객 중 생존자의 수를 출력"
   ]
  },
  {
   "cell_type": "markdown",
   "metadata": {},
   "source": [
    "- 고급문제"
   ]
  },
  {
   "cell_type": "code",
   "execution_count": 34,
   "metadata": {},
   "outputs": [],
   "source": [
    "# 1. 생존자(Survived)와 그렇지 않은 사람들의 `Pclass`(객실 등급)별 평균 나이를 각각 출력"
   ]
  },
  {
   "cell_type": "code",
   "execution_count": 35,
   "metadata": {},
   "outputs": [],
   "source": [
    "# 2. `SibSp`(형제/배우자 수)가 3 이상인 승객들 중에서, `Fare`(운임) 상위 5명의 이름과 나이를 출력"
   ]
  },
  {
   "cell_type": "code",
   "execution_count": 36,
   "metadata": {},
   "outputs": [],
   "source": [
    "# 3. 승객 중에서 `Age` 값이 결측치(NaN)인 사람들의 `Embarked`(탑승 항구)별 분포를 출력"
   ]
  },
  {
   "cell_type": "code",
   "execution_count": 37,
   "metadata": {},
   "outputs": [],
   "source": [
    "# 4. 나이가 16세 미만이고, 혼자 탑승한(`SibSp == 0` and `Parch == 0`) 승객의 이름과 성별, 생존 여부를 출력"
   ]
  },
  {
   "cell_type": "code",
   "execution_count": 38,
   "metadata": {},
   "outputs": [],
   "source": [
    "# 5. 1등급(Pclass == 1) 객실에 탑승한 승객들 중에서, 운임(Fare)이 평균보다 높은 사람들의 이름과 나이, 운임을 출력"
   ]
  },
  {
   "cell_type": "code",
   "execution_count": 39,
   "metadata": {},
   "outputs": [],
   "source": [
    "# 6. 나이(Age), 객실 등급(Pclass), 운임(Fare) 값에 결측치가 없는 승객들만 대상으로, 각 등급별 평균 운임과 중앙값 운임을 출력"
   ]
  },
  {
   "cell_type": "code",
   "execution_count": 40,
   "metadata": {},
   "outputs": [],
   "source": [
    "# 7. 승객들의 `Embarked` 별 평균 나이를 계산하고, 가장 많은 승객이 탑승한 항구를 기준으로 생존율을 계산하여 출력"
   ]
  },
  {
   "cell_type": "code",
   "execution_count": 41,
   "metadata": {},
   "outputs": [],
   "source": [
    "# 8. 승객 중에서 여성(`Sex == 'female'`)이면서 30세 이상인 사람들의 생존율을 계산하여 출력"
   ]
  },
  {
   "cell_type": "code",
   "execution_count": 42,
   "metadata": {},
   "outputs": [],
   "source": [
    "# 9. 동반한 형제 또는 배우자 수(`SibSp`)와 부모 또는 자녀 수(`Parch`)의 합이 3 이상인 승객들만을 대상으로, 그들의 생존율을 계산하여 출력"
   ]
  },
  {
   "cell_type": "code",
   "execution_count": 43,
   "metadata": {},
   "outputs": [],
   "source": [
    "# 10. `Cabin`(객실 번호) 정보가 있는 승객들만을 대상으로, 그들의 생존율을 객실 등급별로 구분하여 계산하여 출력"
   ]
  }
 ],
 "metadata": {
  "kernelspec": {
   "display_name": "helloworld",
   "language": "python",
   "name": "python3"
  },
  "language_info": {
   "codemirror_mode": {
    "name": "ipython",
    "version": 3
   },
   "file_extension": ".py",
   "mimetype": "text/x-python",
   "name": "python",
   "nbconvert_exporter": "python",
   "pygments_lexer": "ipython3",
   "version": "3.12.12"
  }
 },
 "nbformat": 4,
 "nbformat_minor": 2
}
